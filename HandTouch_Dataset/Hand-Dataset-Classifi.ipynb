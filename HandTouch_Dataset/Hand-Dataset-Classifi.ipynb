{
 "cells": [
  {
   "cell_type": "markdown",
   "id": "6367c39c",
   "metadata": {},
   "source": [
    "# About DataSet\n",
    "This dataset includes 30 different subjects touching a specific touchpad. The subjects were asked to make 10 types of touches on the surface in the same order and to pull their hands. The main purpose is to identify touch type and user."
   ]
  },
  {
   "cell_type": "markdown",
   "id": "1c4e3aa8",
   "metadata": {},
   "source": [
    "# Loading Data"
   ]
  },
  {
   "cell_type": "code",
   "execution_count": 1,
   "id": "9acd3e28",
   "metadata": {},
   "outputs": [
    {
     "data": {
      "text/html": [
       "<div>\n",
       "<style scoped>\n",
       "    .dataframe tbody tr th:only-of-type {\n",
       "        vertical-align: middle;\n",
       "    }\n",
       "\n",
       "    .dataframe tbody tr th {\n",
       "        vertical-align: top;\n",
       "    }\n",
       "\n",
       "    .dataframe thead th {\n",
       "        text-align: right;\n",
       "    }\n",
       "</style>\n",
       "<table border=\"1\" class=\"dataframe\">\n",
       "  <thead>\n",
       "    <tr style=\"text-align: right;\">\n",
       "      <th></th>\n",
       "      <th>user_id</th>\n",
       "      <th>touch_type</th>\n",
       "      <th>touch</th>\n",
       "      <th>finger</th>\n",
       "      <th>palm</th>\n",
       "      <th>fist</th>\n",
       "      <th>1</th>\n",
       "      <th>2</th>\n",
       "      <th>3</th>\n",
       "      <th>4</th>\n",
       "      <th>...</th>\n",
       "      <th>3191</th>\n",
       "      <th>3192</th>\n",
       "      <th>3193</th>\n",
       "      <th>3194</th>\n",
       "      <th>3195</th>\n",
       "      <th>3196</th>\n",
       "      <th>3197</th>\n",
       "      <th>3198</th>\n",
       "      <th>3199</th>\n",
       "      <th>3200</th>\n",
       "    </tr>\n",
       "  </thead>\n",
       "  <tbody>\n",
       "    <tr>\n",
       "      <th>0</th>\n",
       "      <td>0</td>\n",
       "      <td>0</td>\n",
       "      <td>False</td>\n",
       "      <td>False</td>\n",
       "      <td>False</td>\n",
       "      <td>False</td>\n",
       "      <td>4</td>\n",
       "      <td>0</td>\n",
       "      <td>12</td>\n",
       "      <td>-16</td>\n",
       "      <td>...</td>\n",
       "      <td>-51</td>\n",
       "      <td>4</td>\n",
       "      <td>1</td>\n",
       "      <td>3</td>\n",
       "      <td>-42</td>\n",
       "      <td>2</td>\n",
       "      <td>3</td>\n",
       "      <td>61</td>\n",
       "      <td>2</td>\n",
       "      <td>-1</td>\n",
       "    </tr>\n",
       "    <tr>\n",
       "      <th>1</th>\n",
       "      <td>0</td>\n",
       "      <td>0</td>\n",
       "      <td>False</td>\n",
       "      <td>False</td>\n",
       "      <td>False</td>\n",
       "      <td>False</td>\n",
       "      <td>-52</td>\n",
       "      <td>-2</td>\n",
       "      <td>17</td>\n",
       "      <td>1</td>\n",
       "      <td>...</td>\n",
       "      <td>-36</td>\n",
       "      <td>-1</td>\n",
       "      <td>49</td>\n",
       "      <td>6</td>\n",
       "      <td>-58</td>\n",
       "      <td>8</td>\n",
       "      <td>49</td>\n",
       "      <td>63</td>\n",
       "      <td>47</td>\n",
       "      <td>6</td>\n",
       "    </tr>\n",
       "    <tr>\n",
       "      <th>2</th>\n",
       "      <td>0</td>\n",
       "      <td>0</td>\n",
       "      <td>False</td>\n",
       "      <td>False</td>\n",
       "      <td>False</td>\n",
       "      <td>False</td>\n",
       "      <td>2</td>\n",
       "      <td>7</td>\n",
       "      <td>14</td>\n",
       "      <td>-5</td>\n",
       "      <td>...</td>\n",
       "      <td>1</td>\n",
       "      <td>55</td>\n",
       "      <td>54</td>\n",
       "      <td>-51</td>\n",
       "      <td>-26</td>\n",
       "      <td>55</td>\n",
       "      <td>56</td>\n",
       "      <td>9</td>\n",
       "      <td>55</td>\n",
       "      <td>52</td>\n",
       "    </tr>\n",
       "    <tr>\n",
       "      <th>3</th>\n",
       "      <td>0</td>\n",
       "      <td>0</td>\n",
       "      <td>False</td>\n",
       "      <td>False</td>\n",
       "      <td>False</td>\n",
       "      <td>False</td>\n",
       "      <td>0</td>\n",
       "      <td>6</td>\n",
       "      <td>10</td>\n",
       "      <td>8</td>\n",
       "      <td>...</td>\n",
       "      <td>1</td>\n",
       "      <td>2</td>\n",
       "      <td>28</td>\n",
       "      <td>2</td>\n",
       "      <td>1</td>\n",
       "      <td>9</td>\n",
       "      <td>55</td>\n",
       "      <td>53</td>\n",
       "      <td>-7</td>\n",
       "      <td>51</td>\n",
       "    </tr>\n",
       "    <tr>\n",
       "      <th>4</th>\n",
       "      <td>0</td>\n",
       "      <td>0</td>\n",
       "      <td>False</td>\n",
       "      <td>False</td>\n",
       "      <td>False</td>\n",
       "      <td>False</td>\n",
       "      <td>2</td>\n",
       "      <td>5</td>\n",
       "      <td>3</td>\n",
       "      <td>0</td>\n",
       "      <td>...</td>\n",
       "      <td>-25</td>\n",
       "      <td>51</td>\n",
       "      <td>-6</td>\n",
       "      <td>-45</td>\n",
       "      <td>-4</td>\n",
       "      <td>61</td>\n",
       "      <td>48</td>\n",
       "      <td>60</td>\n",
       "      <td>46</td>\n",
       "      <td>5</td>\n",
       "    </tr>\n",
       "  </tbody>\n",
       "</table>\n",
       "<p>5 rows × 3206 columns</p>\n",
       "</div>"
      ],
      "text/plain": [
       "   user_id  touch_type  touch  finger   palm   fist   1  2   3   4  ...  3191  \\\n",
       "0        0           0  False   False  False  False   4  0  12 -16  ...   -51   \n",
       "1        0           0  False   False  False  False -52 -2  17   1  ...   -36   \n",
       "2        0           0  False   False  False  False   2  7  14  -5  ...     1   \n",
       "3        0           0  False   False  False  False   0  6  10   8  ...     1   \n",
       "4        0           0  False   False  False  False   2  5   3   0  ...   -25   \n",
       "\n",
       "   3192  3193  3194  3195  3196  3197  3198  3199  3200  \n",
       "0     4     1     3   -42     2     3    61     2    -1  \n",
       "1    -1    49     6   -58     8    49    63    47     6  \n",
       "2    55    54   -51   -26    55    56     9    55    52  \n",
       "3     2    28     2     1     9    55    53    -7    51  \n",
       "4    51    -6   -45    -4    61    48    60    46     5  \n",
       "\n",
       "[5 rows x 3206 columns]"
      ]
     },
     "execution_count": 1,
     "metadata": {},
     "output_type": "execute_result"
    }
   ],
   "source": [
    "import pandas as pd\n",
    "import numpy as np\n",
    "from sklearn import datasets\n",
    "import seaborn as sns\n",
    "import matplotlib as mpl\n",
    "import matplotlib.pyplot as plt\n",
    "import warnings\n",
    "warnings.filterwarnings('ignore')\n",
    "\n",
    "np.random.seed(37)\n",
    "df = pd.read_csv(\"common-dataset.csv\")\n",
    "df.head()\n"
   ]
  },
  {
   "cell_type": "code",
   "execution_count": 2,
   "id": "f353c102",
   "metadata": {},
   "outputs": [
    {
     "name": "stdout",
     "output_type": "stream",
     "text": [
      "<class 'pandas.core.frame.DataFrame'>\n",
      "RangeIndex: 2056 entries, 0 to 2055\n",
      "Columns: 3206 entries, user_id to 3200\n",
      "dtypes: bool(4), int64(3202)\n",
      "memory usage: 50.2 MB\n"
     ]
    }
   ],
   "source": [
    "df.info()"
   ]
  },
  {
   "cell_type": "code",
   "execution_count": 3,
   "id": "2275ddee",
   "metadata": {},
   "outputs": [
    {
     "data": {
      "text/html": [
       "<div>\n",
       "<style scoped>\n",
       "    .dataframe tbody tr th:only-of-type {\n",
       "        vertical-align: middle;\n",
       "    }\n",
       "\n",
       "    .dataframe tbody tr th {\n",
       "        vertical-align: top;\n",
       "    }\n",
       "\n",
       "    .dataframe thead th {\n",
       "        text-align: right;\n",
       "    }\n",
       "</style>\n",
       "<table border=\"1\" class=\"dataframe\">\n",
       "  <thead>\n",
       "    <tr style=\"text-align: right;\">\n",
       "      <th></th>\n",
       "      <th>user_id</th>\n",
       "      <th>touch_type</th>\n",
       "      <th>1</th>\n",
       "      <th>2</th>\n",
       "      <th>3</th>\n",
       "      <th>4</th>\n",
       "      <th>5</th>\n",
       "      <th>6</th>\n",
       "      <th>7</th>\n",
       "      <th>8</th>\n",
       "      <th>...</th>\n",
       "      <th>3191</th>\n",
       "      <th>3192</th>\n",
       "      <th>3193</th>\n",
       "      <th>3194</th>\n",
       "      <th>3195</th>\n",
       "      <th>3196</th>\n",
       "      <th>3197</th>\n",
       "      <th>3198</th>\n",
       "      <th>3199</th>\n",
       "      <th>3200</th>\n",
       "    </tr>\n",
       "  </thead>\n",
       "  <tbody>\n",
       "    <tr>\n",
       "      <th>count</th>\n",
       "      <td>2056.000000</td>\n",
       "      <td>2056.000000</td>\n",
       "      <td>2056.000000</td>\n",
       "      <td>2056.000000</td>\n",
       "      <td>2056.000000</td>\n",
       "      <td>2056.000000</td>\n",
       "      <td>2056.000000</td>\n",
       "      <td>2056.000000</td>\n",
       "      <td>2056.000000</td>\n",
       "      <td>2056.000000</td>\n",
       "      <td>...</td>\n",
       "      <td>2056.000000</td>\n",
       "      <td>2056.000000</td>\n",
       "      <td>2056.000000</td>\n",
       "      <td>2056.000000</td>\n",
       "      <td>2056.000000</td>\n",
       "      <td>2056.000000</td>\n",
       "      <td>2056.000000</td>\n",
       "      <td>2056.000000</td>\n",
       "      <td>2056.000000</td>\n",
       "      <td>2056.000000</td>\n",
       "    </tr>\n",
       "    <tr>\n",
       "      <th>mean</th>\n",
       "      <td>14.144455</td>\n",
       "      <td>2.208658</td>\n",
       "      <td>6.383268</td>\n",
       "      <td>-0.736868</td>\n",
       "      <td>-1.372568</td>\n",
       "      <td>-1.951848</td>\n",
       "      <td>-0.771401</td>\n",
       "      <td>-0.479086</td>\n",
       "      <td>0.716926</td>\n",
       "      <td>0.893482</td>\n",
       "      <td>...</td>\n",
       "      <td>0.269942</td>\n",
       "      <td>9.160506</td>\n",
       "      <td>7.529183</td>\n",
       "      <td>-1.431420</td>\n",
       "      <td>4.392023</td>\n",
       "      <td>10.382782</td>\n",
       "      <td>6.484922</td>\n",
       "      <td>3.776265</td>\n",
       "      <td>3.038911</td>\n",
       "      <td>16.335603</td>\n",
       "    </tr>\n",
       "    <tr>\n",
       "      <th>std</th>\n",
       "      <td>8.776936</td>\n",
       "      <td>3.059943</td>\n",
       "      <td>37.765997</td>\n",
       "      <td>7.140939</td>\n",
       "      <td>8.932638</td>\n",
       "      <td>10.529769</td>\n",
       "      <td>12.400623</td>\n",
       "      <td>9.899473</td>\n",
       "      <td>13.253678</td>\n",
       "      <td>14.909682</td>\n",
       "      <td>...</td>\n",
       "      <td>31.318870</td>\n",
       "      <td>31.483043</td>\n",
       "      <td>35.528682</td>\n",
       "      <td>36.167375</td>\n",
       "      <td>37.094317</td>\n",
       "      <td>36.713209</td>\n",
       "      <td>37.415322</td>\n",
       "      <td>39.689446</td>\n",
       "      <td>36.621301</td>\n",
       "      <td>33.422914</td>\n",
       "    </tr>\n",
       "    <tr>\n",
       "      <th>min</th>\n",
       "      <td>0.000000</td>\n",
       "      <td>0.000000</td>\n",
       "      <td>-62.000000</td>\n",
       "      <td>-22.000000</td>\n",
       "      <td>-23.000000</td>\n",
       "      <td>-27.000000</td>\n",
       "      <td>-29.000000</td>\n",
       "      <td>-28.000000</td>\n",
       "      <td>-31.000000</td>\n",
       "      <td>-34.000000</td>\n",
       "      <td>...</td>\n",
       "      <td>-56.000000</td>\n",
       "      <td>-58.000000</td>\n",
       "      <td>-61.000000</td>\n",
       "      <td>-66.000000</td>\n",
       "      <td>-62.000000</td>\n",
       "      <td>-61.000000</td>\n",
       "      <td>-62.000000</td>\n",
       "      <td>-69.000000</td>\n",
       "      <td>-65.000000</td>\n",
       "      <td>-56.000000</td>\n",
       "    </tr>\n",
       "    <tr>\n",
       "      <th>25%</th>\n",
       "      <td>7.000000</td>\n",
       "      <td>0.000000</td>\n",
       "      <td>-2.000000</td>\n",
       "      <td>-6.000000</td>\n",
       "      <td>-8.000000</td>\n",
       "      <td>-9.000000</td>\n",
       "      <td>-9.000000</td>\n",
       "      <td>-7.000000</td>\n",
       "      <td>-7.000000</td>\n",
       "      <td>-9.000000</td>\n",
       "      <td>...</td>\n",
       "      <td>-21.000000</td>\n",
       "      <td>-9.000000</td>\n",
       "      <td>-4.000000</td>\n",
       "      <td>-37.000000</td>\n",
       "      <td>-27.000000</td>\n",
       "      <td>-5.000000</td>\n",
       "      <td>-7.000000</td>\n",
       "      <td>-10.000000</td>\n",
       "      <td>-16.000000</td>\n",
       "      <td>-1.000000</td>\n",
       "    </tr>\n",
       "    <tr>\n",
       "      <th>50%</th>\n",
       "      <td>14.000000</td>\n",
       "      <td>0.000000</td>\n",
       "      <td>3.000000</td>\n",
       "      <td>-1.000000</td>\n",
       "      <td>-1.000000</td>\n",
       "      <td>-1.000000</td>\n",
       "      <td>-1.000000</td>\n",
       "      <td>0.000000</td>\n",
       "      <td>0.000000</td>\n",
       "      <td>0.000000</td>\n",
       "      <td>...</td>\n",
       "      <td>0.000000</td>\n",
       "      <td>6.000000</td>\n",
       "      <td>5.000000</td>\n",
       "      <td>1.000000</td>\n",
       "      <td>4.000000</td>\n",
       "      <td>5.000000</td>\n",
       "      <td>5.000000</td>\n",
       "      <td>3.000000</td>\n",
       "      <td>1.000000</td>\n",
       "      <td>7.000000</td>\n",
       "    </tr>\n",
       "    <tr>\n",
       "      <th>75%</th>\n",
       "      <td>22.000000</td>\n",
       "      <td>4.000000</td>\n",
       "      <td>53.000000</td>\n",
       "      <td>5.000000</td>\n",
       "      <td>4.000000</td>\n",
       "      <td>6.000000</td>\n",
       "      <td>9.000000</td>\n",
       "      <td>7.000000</td>\n",
       "      <td>11.000000</td>\n",
       "      <td>13.000000</td>\n",
       "      <td>...</td>\n",
       "      <td>25.000000</td>\n",
       "      <td>34.000000</td>\n",
       "      <td>32.000000</td>\n",
       "      <td>13.000000</td>\n",
       "      <td>27.000000</td>\n",
       "      <td>49.000000</td>\n",
       "      <td>45.000000</td>\n",
       "      <td>22.000000</td>\n",
       "      <td>30.000000</td>\n",
       "      <td>51.000000</td>\n",
       "    </tr>\n",
       "    <tr>\n",
       "      <th>max</th>\n",
       "      <td>29.000000</td>\n",
       "      <td>9.000000</td>\n",
       "      <td>70.000000</td>\n",
       "      <td>21.000000</td>\n",
       "      <td>21.000000</td>\n",
       "      <td>23.000000</td>\n",
       "      <td>41.000000</td>\n",
       "      <td>22.000000</td>\n",
       "      <td>70.000000</td>\n",
       "      <td>46.000000</td>\n",
       "      <td>...</td>\n",
       "      <td>72.000000</td>\n",
       "      <td>100.000000</td>\n",
       "      <td>104.000000</td>\n",
       "      <td>92.000000</td>\n",
       "      <td>82.000000</td>\n",
       "      <td>107.000000</td>\n",
       "      <td>103.000000</td>\n",
       "      <td>101.000000</td>\n",
       "      <td>103.000000</td>\n",
       "      <td>99.000000</td>\n",
       "    </tr>\n",
       "  </tbody>\n",
       "</table>\n",
       "<p>8 rows × 3202 columns</p>\n",
       "</div>"
      ],
      "text/plain": [
       "           user_id   touch_type            1            2            3  \\\n",
       "count  2056.000000  2056.000000  2056.000000  2056.000000  2056.000000   \n",
       "mean     14.144455     2.208658     6.383268    -0.736868    -1.372568   \n",
       "std       8.776936     3.059943    37.765997     7.140939     8.932638   \n",
       "min       0.000000     0.000000   -62.000000   -22.000000   -23.000000   \n",
       "25%       7.000000     0.000000    -2.000000    -6.000000    -8.000000   \n",
       "50%      14.000000     0.000000     3.000000    -1.000000    -1.000000   \n",
       "75%      22.000000     4.000000    53.000000     5.000000     4.000000   \n",
       "max      29.000000     9.000000    70.000000    21.000000    21.000000   \n",
       "\n",
       "                 4            5            6            7            8  ...  \\\n",
       "count  2056.000000  2056.000000  2056.000000  2056.000000  2056.000000  ...   \n",
       "mean     -1.951848    -0.771401    -0.479086     0.716926     0.893482  ...   \n",
       "std      10.529769    12.400623     9.899473    13.253678    14.909682  ...   \n",
       "min     -27.000000   -29.000000   -28.000000   -31.000000   -34.000000  ...   \n",
       "25%      -9.000000    -9.000000    -7.000000    -7.000000    -9.000000  ...   \n",
       "50%      -1.000000    -1.000000     0.000000     0.000000     0.000000  ...   \n",
       "75%       6.000000     9.000000     7.000000    11.000000    13.000000  ...   \n",
       "max      23.000000    41.000000    22.000000    70.000000    46.000000  ...   \n",
       "\n",
       "              3191         3192         3193         3194         3195  \\\n",
       "count  2056.000000  2056.000000  2056.000000  2056.000000  2056.000000   \n",
       "mean      0.269942     9.160506     7.529183    -1.431420     4.392023   \n",
       "std      31.318870    31.483043    35.528682    36.167375    37.094317   \n",
       "min     -56.000000   -58.000000   -61.000000   -66.000000   -62.000000   \n",
       "25%     -21.000000    -9.000000    -4.000000   -37.000000   -27.000000   \n",
       "50%       0.000000     6.000000     5.000000     1.000000     4.000000   \n",
       "75%      25.000000    34.000000    32.000000    13.000000    27.000000   \n",
       "max      72.000000   100.000000   104.000000    92.000000    82.000000   \n",
       "\n",
       "              3196         3197         3198         3199         3200  \n",
       "count  2056.000000  2056.000000  2056.000000  2056.000000  2056.000000  \n",
       "mean     10.382782     6.484922     3.776265     3.038911    16.335603  \n",
       "std      36.713209    37.415322    39.689446    36.621301    33.422914  \n",
       "min     -61.000000   -62.000000   -69.000000   -65.000000   -56.000000  \n",
       "25%      -5.000000    -7.000000   -10.000000   -16.000000    -1.000000  \n",
       "50%       5.000000     5.000000     3.000000     1.000000     7.000000  \n",
       "75%      49.000000    45.000000    22.000000    30.000000    51.000000  \n",
       "max     107.000000   103.000000   101.000000   103.000000    99.000000  \n",
       "\n",
       "[8 rows x 3202 columns]"
      ]
     },
     "execution_count": 3,
     "metadata": {},
     "output_type": "execute_result"
    }
   ],
   "source": [
    "data=df.values\n",
    "df.describe()"
   ]
  },
  {
   "cell_type": "markdown",
   "id": "d67d794a",
   "metadata": {},
   "source": [
    "# Splitting Data"
   ]
  },
  {
   "cell_type": "code",
   "execution_count": 4,
   "id": "2876a5f4",
   "metadata": {},
   "outputs": [],
   "source": [
    "y_user_id = data[:,0]\n",
    "y_touch_type = data[:,1]\n",
    "y_touch_ver = data[:,2:6]\n",
    "y_user_id=y_user_id.astype('int64')\n",
    "y_touch_type=y_touch_type.astype('int64')\n",
    "y_touch_ver=y_touch_ver.astype('bool')"
   ]
  },
  {
   "cell_type": "code",
   "execution_count": 5,
   "id": "e992b0f4",
   "metadata": {},
   "outputs": [
    {
     "data": {
      "text/plain": [
       "array([[  4,   0,  12, ...,  61,   2,  -1],\n",
       "       [-52,  -2,  17, ...,  63,  47,   6],\n",
       "       [  2,   7,  14, ...,   9,  55,  52],\n",
       "       ...,\n",
       "       [  8,  -9, -12, ...,  20,  64,  68],\n",
       "       [ 56,   0,   0, ...,   6,  -6,  51],\n",
       "       [ 11,  -1, -12, ...,   9,  52,  52]], dtype=int64)"
      ]
     },
     "execution_count": 5,
     "metadata": {},
     "output_type": "execute_result"
    }
   ],
   "source": [
    "x=data[:,6:]\n",
    "x=x.astype('int64')\n",
    "x"
   ]
  },
  {
   "cell_type": "markdown",
   "id": "852294fb",
   "metadata": {},
   "source": [
    "# Setting Train and Test Data"
   ]
  },
  {
   "cell_type": "code",
   "execution_count": 6,
   "id": "1a4bba62",
   "metadata": {},
   "outputs": [],
   "source": [
    "from sklearn.model_selection import train_test_split\n",
    "x_train_user_id, x_test_user_id, y_train_user_id, y_test_user_id = train_test_split(x, y_user_id, test_size = 0.25, random_state = 37)\n",
    "x_train_touch_type, x_test_touch_type, y_train_touch_type, y_test_touch_type = train_test_split(x, y_touch_type, test_size = 0.25, random_state = 37)\n",
    "x_train_ver, x_test_ver, y_train_ver, y_test_ver = train_test_split(x, y_touch_ver, test_size = 0.25, random_state = 37)"
   ]
  },
  {
   "cell_type": "markdown",
   "id": "5d2a0501",
   "metadata": {},
   "source": [
    "# Fitting Train Data to Random Forest Classifier"
   ]
  },
  {
   "cell_type": "code",
   "execution_count": 7,
   "id": "a29693ad",
   "metadata": {},
   "outputs": [
    {
     "data": {
      "text/plain": [
       "RandomForestClassifier()"
      ]
     },
     "execution_count": 7,
     "metadata": {},
     "output_type": "execute_result"
    }
   ],
   "source": [
    "from sklearn.ensemble import RandomForestClassifier\n",
    "from sklearn.datasets import make_classification\n",
    "clf = RandomForestClassifier()\n",
    "clf.fit(x_train_user_id, y_train_user_id)"
   ]
  },
  {
   "cell_type": "code",
   "execution_count": 8,
   "id": "093b378b",
   "metadata": {},
   "outputs": [
    {
     "name": "stdout",
     "output_type": "stream",
     "text": [
      "[7.97775870e-05 8.24893565e-05 2.36553463e-04 ... 2.85893151e-04\n",
      " 3.89446544e-05 3.24691741e-05]\n"
     ]
    }
   ],
   "source": [
    "print(clf.feature_importances_)"
   ]
  },
  {
   "cell_type": "code",
   "execution_count": 9,
   "id": "dc35b5bf",
   "metadata": {},
   "outputs": [],
   "source": [
    "y_prediction = clf.predict(x_test_user_id)"
   ]
  },
  {
   "cell_type": "markdown",
   "id": "57740a97",
   "metadata": {},
   "source": [
    "# Performance Evaluation of User ID"
   ]
  },
  {
   "cell_type": "code",
   "execution_count": 10,
   "id": "a39fc397",
   "metadata": {},
   "outputs": [
    {
     "data": {
      "text/plain": [
       "1.0"
      ]
     },
     "execution_count": 10,
     "metadata": {},
     "output_type": "execute_result"
    }
   ],
   "source": [
    "from sklearn.metrics import accuracy_score\n",
    "accuracy_score(y_test_user_id, y_prediction)"
   ]
  },
  {
   "cell_type": "code",
   "execution_count": 11,
   "id": "d1c75f2b",
   "metadata": {},
   "outputs": [
    {
     "name": "stdout",
     "output_type": "stream",
     "text": [
      "[[0.   0.   0.01 ... 0.   0.   0.01]\n",
      " [0.01 0.   0.   ... 0.01 0.02 0.01]\n",
      " [0.02 0.02 0.02 ... 0.   0.01 0.02]\n",
      " ...\n",
      " [0.01 0.01 0.01 ... 0.01 0.   0.  ]\n",
      " [0.   0.01 0.   ... 0.01 0.   0.02]\n",
      " [0.01 0.01 0.01 ... 0.   0.01 0.  ]]\n"
     ]
    }
   ],
   "source": [
    "print(clf.predict_proba(x_test_user_id))"
   ]
  },
  {
   "cell_type": "code",
   "execution_count": 12,
   "id": "9493cb26",
   "metadata": {},
   "outputs": [
    {
     "data": {
      "text/plain": [
       "<matplotlib.collections.PathCollection at 0x152c6be8910>"
      ]
     },
     "execution_count": 12,
     "metadata": {},
     "output_type": "execute_result"
    },
    {
     "data": {
      "image/png": "[encoded data removed]",
      "text/plain": [
       "<Figure size 432x288 with 1 Axes>"
      ]
     },
     "metadata": {
      "needs_background": "light"
     },
     "output_type": "display_data"
    }
   ],
   "source": [
    "dataset = pd.DataFrame({'Test': y_test_user_id, 'Pred': y_prediction}, columns=['Test', 'Pred'])\n",
    "#visualisation\n",
    "plt.scatter(data=dataset, x='Test', y='Pred')"
   ]
  },
  {
   "cell_type": "markdown",
   "id": "43f32645",
   "metadata": {},
   "source": [
    "# Performance Evaluation of Touch Type"
   ]
  },
  {
   "cell_type": "code",
   "execution_count": 13,
   "id": "b179ce64",
   "metadata": {},
   "outputs": [
    {
     "name": "stdout",
     "output_type": "stream",
     "text": [
      "[7.28881502e-05 5.53180701e-05 1.05192949e-04 ... 1.62747708e-04\n",
      " 1.74701719e-04 2.39251155e-04]\n"
     ]
    },
    {
     "data": {
      "text/plain": [
       "0.6867704280155642"
      ]
     },
     "execution_count": 13,
     "metadata": {},
     "output_type": "execute_result"
    }
   ],
   "source": [
    "clf_touch_type = RandomForestClassifier()\n",
    "clf_touch_type.fit(x_train_touch_type, y_train_touch_type)\n",
    "print(clf_touch_type.feature_importances_)\n",
    "y_prediction = clf_touch_type.predict(x_test_touch_type)\n",
    "accuracy_score(y_test_touch_type, y_prediction)"
   ]
  },
  {
   "cell_type": "code",
   "execution_count": 14,
   "id": "0ef349c8",
   "metadata": {},
   "outputs": [
    {
     "data": {
      "text/plain": [
       "<matplotlib.collections.PathCollection at 0x152c6a1c1c0>"
      ]
     },
     "execution_count": 14,
     "metadata": {},
     "output_type": "execute_result"
    },
    {
     "data": {
      "image/png": "[encoded data removed]",
      "text/plain": [
       "<Figure size 432x288 with 1 Axes>"
      ]
     },
     "metadata": {
      "needs_background": "light"
     },
     "output_type": "display_data"
    }
   ],
   "source": [
    "dataset = pd.DataFrame({'Test': y_test_user_id, 'Pred': y_prediction}, columns=['Test', 'Pred'])\n",
    "plt.scatter(data=dataset, x='Test', y='Pred')"
   ]
  },
  {
   "cell_type": "markdown",
   "id": "1c72c16a",
   "metadata": {},
   "source": [
    "# Using MlkNN and Performance Evaluation of Touch Types\n",
    "MLkNN builds uses k-NearestNeighbors find nearest examples to a test class and uses Bayesian inference to select assigned labels.\n",
    "We are using MlkNN because we have multilabel on this data."
   ]
  },
  {
   "cell_type": "code",
   "execution_count": 15,
   "id": "0cd1b1d9",
   "metadata": {},
   "outputs": [
    {
     "data": {
      "text/plain": [
       "0.77431906614786"
      ]
     },
     "execution_count": 15,
     "metadata": {},
     "output_type": "execute_result"
    }
   ],
   "source": [
    "from skmultilearn.adapt import MLkNN\n",
    "\n",
    "classifier = MLkNN(k=4)\n",
    "\n",
    "# train\n",
    "classifier.fit(x_train_ver, y_train_ver)\n",
    "\n",
    "# predict\n",
    "predictions = classifier.predict(x_test_ver)\n",
    "\n",
    "accuracy_score(y_test_ver,predictions)"
   ]
  }
 ],
 "metadata": {
  "kernelspec": {
   "display_name": "Python 3 (ipykernel)",
   "language": "python",
   "name": "python3"
  },
  "language_info": {
   "codemirror_mode": {
    "name": "ipython",
    "version": 3
   },
   "file_extension": ".py",
   "mimetype": "text/x-python",
   "name": "python",
   "nbconvert_exporter": "python",
   "pygments_lexer": "ipython3",
   "version": "3.8.1"
  }
 },
 "nbformat": 4,
 "nbformat_minor": 5
}
