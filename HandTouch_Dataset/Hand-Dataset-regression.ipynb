{
 "cells": [
  {
   "cell_type": "markdown",
   "id": "7aa5a9bd",
   "metadata": {},
   "source": [
    "# Importing DataSet"
   ]
  },
  {
   "cell_type": "code",
   "execution_count": 2,
   "id": "c021ce3d",
   "metadata": {},
   "outputs": [
    {
     "data": {
      "text/html": [
       "<div>\n",
       "<style scoped>\n",
       "    .dataframe tbody tr th:only-of-type {\n",
       "        vertical-align: middle;\n",
       "    }\n",
       "\n",
       "    .dataframe tbody tr th {\n",
       "        vertical-align: top;\n",
       "    }\n",
       "\n",
       "    .dataframe thead th {\n",
       "        text-align: right;\n",
       "    }\n",
       "</style>\n",
       "<table border=\"1\" class=\"dataframe\">\n",
       "  <thead>\n",
       "    <tr style=\"text-align: right;\">\n",
       "      <th></th>\n",
       "      <th>user_id</th>\n",
       "      <th>touch_type</th>\n",
       "      <th>touch</th>\n",
       "      <th>finger</th>\n",
       "      <th>palm</th>\n",
       "      <th>fist</th>\n",
       "      <th>1</th>\n",
       "      <th>2</th>\n",
       "      <th>3</th>\n",
       "      <th>4</th>\n",
       "      <th>...</th>\n",
       "      <th>3191</th>\n",
       "      <th>3192</th>\n",
       "      <th>3193</th>\n",
       "      <th>3194</th>\n",
       "      <th>3195</th>\n",
       "      <th>3196</th>\n",
       "      <th>3197</th>\n",
       "      <th>3198</th>\n",
       "      <th>3199</th>\n",
       "      <th>3200</th>\n",
       "    </tr>\n",
       "  </thead>\n",
       "  <tbody>\n",
       "    <tr>\n",
       "      <th>0</th>\n",
       "      <td>0</td>\n",
       "      <td>0</td>\n",
       "      <td>False</td>\n",
       "      <td>False</td>\n",
       "      <td>False</td>\n",
       "      <td>False</td>\n",
       "      <td>4</td>\n",
       "      <td>0</td>\n",
       "      <td>12</td>\n",
       "      <td>-16</td>\n",
       "      <td>...</td>\n",
       "      <td>-51</td>\n",
       "      <td>4</td>\n",
       "      <td>1</td>\n",
       "      <td>3</td>\n",
       "      <td>-42</td>\n",
       "      <td>2</td>\n",
       "      <td>3</td>\n",
       "      <td>61</td>\n",
       "      <td>2</td>\n",
       "      <td>-1</td>\n",
       "    </tr>\n",
       "    <tr>\n",
       "      <th>1</th>\n",
       "      <td>0</td>\n",
       "      <td>0</td>\n",
       "      <td>False</td>\n",
       "      <td>False</td>\n",
       "      <td>False</td>\n",
       "      <td>False</td>\n",
       "      <td>-52</td>\n",
       "      <td>-2</td>\n",
       "      <td>17</td>\n",
       "      <td>1</td>\n",
       "      <td>...</td>\n",
       "      <td>-36</td>\n",
       "      <td>-1</td>\n",
       "      <td>49</td>\n",
       "      <td>6</td>\n",
       "      <td>-58</td>\n",
       "      <td>8</td>\n",
       "      <td>49</td>\n",
       "      <td>63</td>\n",
       "      <td>47</td>\n",
       "      <td>6</td>\n",
       "    </tr>\n",
       "    <tr>\n",
       "      <th>2</th>\n",
       "      <td>0</td>\n",
       "      <td>0</td>\n",
       "      <td>False</td>\n",
       "      <td>False</td>\n",
       "      <td>False</td>\n",
       "      <td>False</td>\n",
       "      <td>2</td>\n",
       "      <td>7</td>\n",
       "      <td>14</td>\n",
       "      <td>-5</td>\n",
       "      <td>...</td>\n",
       "      <td>1</td>\n",
       "      <td>55</td>\n",
       "      <td>54</td>\n",
       "      <td>-51</td>\n",
       "      <td>-26</td>\n",
       "      <td>55</td>\n",
       "      <td>56</td>\n",
       "      <td>9</td>\n",
       "      <td>55</td>\n",
       "      <td>52</td>\n",
       "    </tr>\n",
       "    <tr>\n",
       "      <th>3</th>\n",
       "      <td>0</td>\n",
       "      <td>0</td>\n",
       "      <td>False</td>\n",
       "      <td>False</td>\n",
       "      <td>False</td>\n",
       "      <td>False</td>\n",
       "      <td>0</td>\n",
       "      <td>6</td>\n",
       "      <td>10</td>\n",
       "      <td>8</td>\n",
       "      <td>...</td>\n",
       "      <td>1</td>\n",
       "      <td>2</td>\n",
       "      <td>28</td>\n",
       "      <td>2</td>\n",
       "      <td>1</td>\n",
       "      <td>9</td>\n",
       "      <td>55</td>\n",
       "      <td>53</td>\n",
       "      <td>-7</td>\n",
       "      <td>51</td>\n",
       "    </tr>\n",
       "    <tr>\n",
       "      <th>4</th>\n",
       "      <td>0</td>\n",
       "      <td>0</td>\n",
       "      <td>False</td>\n",
       "      <td>False</td>\n",
       "      <td>False</td>\n",
       "      <td>False</td>\n",
       "      <td>2</td>\n",
       "      <td>5</td>\n",
       "      <td>3</td>\n",
       "      <td>0</td>\n",
       "      <td>...</td>\n",
       "      <td>-25</td>\n",
       "      <td>51</td>\n",
       "      <td>-6</td>\n",
       "      <td>-45</td>\n",
       "      <td>-4</td>\n",
       "      <td>61</td>\n",
       "      <td>48</td>\n",
       "      <td>60</td>\n",
       "      <td>46</td>\n",
       "      <td>5</td>\n",
       "    </tr>\n",
       "  </tbody>\n",
       "</table>\n",
       "<p>5 rows × 3206 columns</p>\n",
       "</div>"
      ],
      "text/plain": [
       "   user_id  touch_type  touch  finger   palm   fist   1  2   3   4  ...  3191  \\\n",
       "0        0           0  False   False  False  False   4  0  12 -16  ...   -51   \n",
       "1        0           0  False   False  False  False -52 -2  17   1  ...   -36   \n",
       "2        0           0  False   False  False  False   2  7  14  -5  ...     1   \n",
       "3        0           0  False   False  False  False   0  6  10   8  ...     1   \n",
       "4        0           0  False   False  False  False   2  5   3   0  ...   -25   \n",
       "\n",
       "   3192  3193  3194  3195  3196  3197  3198  3199  3200  \n",
       "0     4     1     3   -42     2     3    61     2    -1  \n",
       "1    -1    49     6   -58     8    49    63    47     6  \n",
       "2    55    54   -51   -26    55    56     9    55    52  \n",
       "3     2    28     2     1     9    55    53    -7    51  \n",
       "4    51    -6   -45    -4    61    48    60    46     5  \n",
       "\n",
       "[5 rows x 3206 columns]"
      ]
     },
     "execution_count": 2,
     "metadata": {},
     "output_type": "execute_result"
    }
   ],
   "source": [
    "import pandas as pd\n",
    "import numpy as np\n",
    "\n",
    "np.random.seed(37)\n",
    "df = pd.read_csv(\"common-dataset.csv\")\n",
    "df.head()"
   ]
  },
  {
   "cell_type": "code",
   "execution_count": 3,
   "id": "252d4200",
   "metadata": {},
   "outputs": [],
   "source": [
    "data=df.values"
   ]
  },
  {
   "cell_type": "markdown",
   "id": "3a8efd9c",
   "metadata": {},
   "source": [
    "# Splitting DataSet"
   ]
  },
  {
   "cell_type": "code",
   "execution_count": 4,
   "id": "b7bf0785",
   "metadata": {},
   "outputs": [
    {
     "data": {
      "text/plain": [
       "array([0, 0, 0, ..., 9, 9, 0], dtype=int64)"
      ]
     },
     "execution_count": 4,
     "metadata": {},
     "output_type": "execute_result"
    }
   ],
   "source": [
    "y_user_id = data[:,0]\n",
    "y_touch_type = data[:,1]\n",
    "# y_touch_ver = data[:,2:6]\n",
    "y_user_id=y_user_id.astype('int64')\n",
    "y_touch_type=y_touch_type.astype('int64')\n",
    "# y_touch_ver=y_touch_ver.astype('bool')\n",
    "y_user_id\n",
    "# y_touch_ver\n",
    "\n",
    "y_touch_type"
   ]
  },
  {
   "cell_type": "code",
   "execution_count": 5,
   "id": "ead5f162",
   "metadata": {},
   "outputs": [
    {
     "data": {
      "text/plain": [
       "array([[  4,   0,  12, ...,  61,   2,  -1],\n",
       "       [-52,  -2,  17, ...,  63,  47,   6],\n",
       "       [  2,   7,  14, ...,   9,  55,  52],\n",
       "       ...,\n",
       "       [  8,  -9, -12, ...,  20,  64,  68],\n",
       "       [ 56,   0,   0, ...,   6,  -6,  51],\n",
       "       [ 11,  -1, -12, ...,   9,  52,  52]], dtype=int64)"
      ]
     },
     "execution_count": 5,
     "metadata": {},
     "output_type": "execute_result"
    }
   ],
   "source": [
    "x=data[:,6:]\n",
    "x=x.astype('int64')\n",
    "x"
   ]
  },
  {
   "cell_type": "markdown",
   "id": "a92adc07",
   "metadata": {},
   "source": [
    "# Setting Train and Test Data"
   ]
  },
  {
   "cell_type": "code",
   "execution_count": 6,
   "id": "265e7bf1",
   "metadata": {},
   "outputs": [
    {
     "data": {
      "text/plain": [
       "array([ 7,  1,  8, ..., 11,  5, 28], dtype=int64)"
      ]
     },
     "execution_count": 6,
     "metadata": {},
     "output_type": "execute_result"
    }
   ],
   "source": [
    "from sklearn.model_selection import train_test_split\n",
    "x_train_user_id, x_test_user_id, y_train_user_id, y_test_user_id = train_test_split(x, y_user_id, test_size = 0.25, random_state = 37)\n",
    "y_train_user_id"
   ]
  },
  {
   "cell_type": "markdown",
   "id": "971461c4",
   "metadata": {},
   "source": [
    "# Fitting Train Data to Linear Regression"
   ]
  },
  {
   "cell_type": "code",
   "execution_count": 7,
   "id": "9a5c7571",
   "metadata": {},
   "outputs": [
    {
     "data": {
      "text/plain": [
       "LinearRegression()"
      ]
     },
     "execution_count": 7,
     "metadata": {},
     "output_type": "execute_result"
    }
   ],
   "source": [
    "from sklearn.linear_model import LinearRegression\n",
    "LR = LinearRegression()\n",
    "LR.fit(x_train_user_id,y_train_user_id)"
   ]
  },
  {
   "cell_type": "code",
   "execution_count": 8,
   "id": "d86299e5",
   "metadata": {},
   "outputs": [
    {
     "name": "stdout",
     "output_type": "stream",
     "text": [
      "[ 1.11139947e-03  4.39782538e-05 -1.28160200e-03 ... -4.94133125e-04\n",
      " -1.78551432e-03  2.75066127e-03]\n"
     ]
    }
   ],
   "source": [
    "print(LR.coef_)"
   ]
  },
  {
   "cell_type": "code",
   "execution_count": 9,
   "id": "fefb893e",
   "metadata": {},
   "outputs": [
    {
     "name": "stdout",
     "output_type": "stream",
     "text": [
      "13.745291651888634\n"
     ]
    }
   ],
   "source": [
    "print(LR.intercept_)"
   ]
  },
  {
   "cell_type": "code",
   "execution_count": 10,
   "id": "7814be5d",
   "metadata": {},
   "outputs": [],
   "source": [
    "y_prediction =  LR.predict(x_test_user_id)"
   ]
  },
  {
   "cell_type": "code",
   "execution_count": 11,
   "id": "1e1703b2",
   "metadata": {},
   "outputs": [
    {
     "name": "stdout",
     "output_type": "stream",
     "text": [
      "r2 score is  0.9699621264807289\n",
      "mean_sqrd_error is== 2.413714180653816\n",
      "root_mean_squared error of is== 1.553613266116705\n"
     ]
    }
   ],
   "source": [
    "from sklearn.metrics import r2_score\n",
    "from sklearn.metrics import mean_squared_error\n",
    "score=r2_score(y_test_user_id,y_prediction)\n",
    "print('r2 score is ',score)\n",
    "print('mean_sqrd_error is==',mean_squared_error(y_test_user_id,y_prediction))\n",
    "print('root_mean_squared error of is==',np.sqrt(mean_squared_error(y_test_user_id,y_prediction)))"
   ]
  },
  {
   "cell_type": "markdown",
   "id": "c9e8c0b0",
   "metadata": {},
   "source": [
    "# Pre-Processing with Standart Scaler\n",
    "Standart scaler standardize features by removing the mean and scaling to unit variance."
   ]
  },
  {
   "cell_type": "code",
   "execution_count": 12,
   "id": "0f498308",
   "metadata": {},
   "outputs": [],
   "source": [
    "from sklearn.model_selection import train_test_split\n",
    "import matplotlib.pyplot as plt\n",
    "x_train_touch_type, x_test_touch_type, y_train_touch_type, y_test_touch_type = train_test_split(x, y_touch_type, test_size = 0.25, random_state = 37)\n",
    "from sklearn import preprocessing\n",
    "\n",
    "\n",
    "sc_x = preprocessing.StandardScaler() #0.20\n",
    "sc_y = preprocessing.StandardScaler()\n",
    "x_train_touch_type = sc_x.fit_transform(x_train_touch_type)\n",
    "x_test_touch_type = sc_x.fit_transform(x_test_touch_type)\n"
   ]
  },
  {
   "cell_type": "markdown",
   "id": "e7c083fb",
   "metadata": {},
   "source": [
    "# Using Linear Regression on Touch Type"
   ]
  },
  {
   "cell_type": "code",
   "execution_count": 13,
   "id": "474e20f6",
   "metadata": {},
   "outputs": [
    {
     "name": "stdout",
     "output_type": "stream",
     "text": [
      "r2 score is  0.1806099704415246\n",
      "mean_sqrd_error is== 7.301911582428097\n",
      "root_mean_squared error of is== 2.7022049482650456\n"
     ]
    }
   ],
   "source": [
    "from sklearn.linear_model import LinearRegression\n",
    "from sklearn.metrics import r2_score\n",
    "from sklearn.metrics import mean_squared_error\n",
    "\n",
    "LR = LinearRegression()\n",
    "LR.fit(x_train_touch_type,y_train_touch_type)\n",
    "y_prediction =  LR.predict(x_test_touch_type)\n",
    "score=r2_score(y_test_touch_type,y_prediction)\n",
    "print('r2 score is ',score)\n",
    "print('mean_sqrd_error is==',mean_squared_error(y_test_touch_type,y_prediction))\n",
    "print('root_mean_squared error of is==',np.sqrt(mean_squared_error(y_test_touch_type,y_prediction)))"
   ]
  },
  {
   "cell_type": "markdown",
   "id": "3b0f86b3",
   "metadata": {},
   "source": [
    "We have a bad result on linear regression so we choose to go with Lasso."
   ]
  },
  {
   "cell_type": "code",
   "execution_count": 14,
   "id": "6cfe1612",
   "metadata": {},
   "outputs": [
    {
     "name": "stdout",
     "output_type": "stream",
     "text": [
      "r2 score is  0.5607561959780787\n",
      "mean_sqrd_error is== 3.9142768454550207\n",
      "root_mean_squared error of is== 1.9784531446195588\n"
     ]
    }
   ],
   "source": [
    "from sklearn import linear_model\n",
    "clf = linear_model.Lasso(alpha=0.1)\n",
    "clf.fit(x_train_touch_type, y_train_touch_type)\n",
    "y_prediction =  clf.predict(x_test_touch_type)\n",
    "score=r2_score(y_test_touch_type,y_prediction)\n",
    "print('r2 score is ',score)\n",
    "print('mean_sqrd_error is==',mean_squared_error(y_test_touch_type,y_prediction))\n",
    "print('root_mean_squared error of is==',np.sqrt(mean_squared_error(y_test_touch_type,y_prediction)))"
   ]
  }
 ],
 "metadata": {
  "kernelspec": {
   "display_name": "Python 3 (ipykernel)",
   "language": "python",
   "name": "python3"
  },
  "language_info": {
   "codemirror_mode": {
    "name": "ipython",
    "version": 3
   },
   "file_extension": ".py",
   "mimetype": "text/x-python",
   "name": "python",
   "nbconvert_exporter": "python",
   "pygments_lexer": "ipython3",
   "version": "3.8.1"
  }
 },
 "nbformat": 4,
 "nbformat_minor": 5
}
