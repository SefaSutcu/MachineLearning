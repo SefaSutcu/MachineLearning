{
 "cells": [
  {
   "cell_type": "markdown",
   "id": "f0e61ff4",
   "metadata": {},
   "source": [
    "# About Dataset\n",
    "Dataset consists of 7 news type labels. These labels are economy, politics, life, technology, magazine, health, sport. This dataset was created by me via Mynet, Milliyet, etc websites. There are 600 headlines for each label in the dataset . Hence, total headlines count is 4200 for dataset."
   ]
  },
  {
   "cell_type": "markdown",
   "id": "4058511b",
   "metadata": {},
   "source": [
    "# Loading Data"
   ]
  },
  {
   "cell_type": "code",
   "execution_count": 1,
   "id": "fcd0dafc",
   "metadata": {},
   "outputs": [
    {
     "data": {
      "text/html": [
       "<div>\n",
       "<style scoped>\n",
       "    .dataframe tbody tr th:only-of-type {\n",
       "        vertical-align: middle;\n",
       "    }\n",
       "\n",
       "    .dataframe tbody tr th {\n",
       "        vertical-align: top;\n",
       "    }\n",
       "\n",
       "    .dataframe thead th {\n",
       "        text-align: right;\n",
       "    }\n",
       "</style>\n",
       "<table border=\"1\" class=\"dataframe\">\n",
       "  <thead>\n",
       "    <tr style=\"text-align: right;\">\n",
       "      <th></th>\n",
       "      <th>HABERLER</th>\n",
       "      <th>ETIKET</th>\n",
       "    </tr>\n",
       "  </thead>\n",
       "  <tbody>\n",
       "    <tr>\n",
       "      <th>0</th>\n",
       "      <td>TÜİK verilerine göre sanayi ciro endeksi Ağust...</td>\n",
       "      <td>Ekonomi</td>\n",
       "    </tr>\n",
       "    <tr>\n",
       "      <th>1</th>\n",
       "      <td>Piyasa güne eksi rezervde başladı</td>\n",
       "      <td>Ekonomi</td>\n",
       "    </tr>\n",
       "    <tr>\n",
       "      <th>2</th>\n",
       "      <td>Citigroup, Deutsche Bank ve HSBC Libor manipül...</td>\n",
       "      <td>Ekonomi</td>\n",
       "    </tr>\n",
       "    <tr>\n",
       "      <th>3</th>\n",
       "      <td>Gelişen piyasa yatırımcılarını en fazla 'Fed' ...</td>\n",
       "      <td>Ekonomi</td>\n",
       "    </tr>\n",
       "    <tr>\n",
       "      <th>4</th>\n",
       "      <td>Bitcoin fiyatında yükseliş hız kesmiyor</td>\n",
       "      <td>Ekonomi</td>\n",
       "    </tr>\n",
       "  </tbody>\n",
       "</table>\n",
       "</div>"
      ],
      "text/plain": [
       "                                            HABERLER   ETIKET\n",
       "0  TÜİK verilerine göre sanayi ciro endeksi Ağust...  Ekonomi\n",
       "1                  Piyasa güne eksi rezervde başladı  Ekonomi\n",
       "2  Citigroup, Deutsche Bank ve HSBC Libor manipül...  Ekonomi\n",
       "3  Gelişen piyasa yatırımcılarını en fazla 'Fed' ...  Ekonomi\n",
       "4            Bitcoin fiyatında yükseliş hız kesmiyor  Ekonomi"
      ]
     },
     "execution_count": 1,
     "metadata": {},
     "output_type": "execute_result"
    }
   ],
   "source": [
    "import pandas as pd\n",
    "import numpy as np\n",
    "df = pd.read_csv(\"Turkish-HeadLines.csv\")\n",
    "df.head()"
   ]
  },
  {
   "cell_type": "code",
   "execution_count": 2,
   "id": "55bd8c87",
   "metadata": {},
   "outputs": [],
   "source": [
    "data = df.values"
   ]
  },
  {
   "cell_type": "markdown",
   "id": "6a11534e",
   "metadata": {},
   "source": [
    "As you can see we have label in our data but we assume that we had no label and do the clustering with label name occurrences number on k-means"
   ]
  },
  {
   "cell_type": "markdown",
   "id": "e85aef74",
   "metadata": {},
   "source": [
    "# Splitting Data"
   ]
  },
  {
   "cell_type": "code",
   "execution_count": 3,
   "id": "46c35cfc",
   "metadata": {},
   "outputs": [
    {
     "data": {
      "text/plain": [
       "array(['TÜİK verilerine göre sanayi ciro endeksi Ağustos ayında bir önceki yılın aynı ayına göre %26,6 arttı.',\n",
       "       'Piyasa güne eksi rezervde başladı',\n",
       "       'Citigroup, Deutsche Bank ve HSBC Libor manipülasyonu davasında 132 milyon dolar ödemeyi kabul ettiler.',\n",
       "       ...,\n",
       "       'Konak ilçesindeki operasyonda 55 gram esrar, 55 uyuşturucu hap ile 1 ruhsatsız tabanca ele geçirildi, 1 kişi tutuklandı',\n",
       "       \"Siirt ve Manisa'da düzenlenen operasyonda gözaltına alınan eski 2 kaymakam ve savcı tutuklandı\",\n",
       "       \"Denizli'de Kaçak Sigara Operasyonu: 13 Gözaltı\"], dtype=object)"
      ]
     },
     "execution_count": 3,
     "metadata": {},
     "output_type": "execute_result"
    }
   ],
   "source": [
    "x = data[:,0]\n",
    "x"
   ]
  },
  {
   "cell_type": "code",
   "execution_count": 4,
   "id": "7979fe99",
   "metadata": {},
   "outputs": [
    {
     "data": {
      "text/plain": [
       "array(['Ekonomi', 'Ekonomi', 'Ekonomi', ..., 'Yaşam', 'Yaşam', 'Yaşam'],\n",
       "      dtype=object)"
      ]
     },
     "execution_count": 4,
     "metadata": {},
     "output_type": "execute_result"
    }
   ],
   "source": [
    "target_data = data[:,-1]\n",
    "target_data"
   ]
  },
  {
   "cell_type": "markdown",
   "id": "8ddf674a",
   "metadata": {},
   "source": [
    "# Changing target data string to integer value"
   ]
  },
  {
   "cell_type": "code",
   "execution_count": 5,
   "id": "4f8555d4",
   "metadata": {},
   "outputs": [
    {
     "data": {
      "text/plain": [
       "{'Ekonomi', 'Magazin', 'Sağlık', 'Siyaset', 'Spor', 'Teknoloji', 'Yaşam'}"
      ]
     },
     "execution_count": 5,
     "metadata": {},
     "output_type": "execute_result"
    }
   ],
   "source": [
    "target_set = {s for s in target_data}\n",
    "target_set"
   ]
  },
  {
   "cell_type": "code",
   "execution_count": 6,
   "id": "116fb009",
   "metadata": {},
   "outputs": [
    {
     "data": {
      "text/plain": [
       "{'Teknoloji': 0,\n",
       " 'Magazin': 1,\n",
       " 'Ekonomi': 2,\n",
       " 'Siyaset': 3,\n",
       " 'Yaşam': 4,\n",
       " 'Spor': 5,\n",
       " 'Sağlık': 6}"
      ]
     },
     "execution_count": 6,
     "metadata": {},
     "output_type": "execute_result"
    }
   ],
   "source": [
    "target_id = {}\n",
    "i=0\n",
    "for s in target_set:\n",
    "    target_id[s] = i\n",
    "    i+=1\n",
    "target_id"
   ]
  },
  {
   "cell_type": "code",
   "execution_count": 7,
   "id": "2ce0c40a",
   "metadata": {},
   "outputs": [],
   "source": [
    "y = [target_id[s] for s in target_data]"
   ]
  },
  {
   "cell_type": "markdown",
   "id": "1cd9394f",
   "metadata": {},
   "source": [
    "with no labels we don't need test data so pass the train test splitting proccess"
   ]
  },
  {
   "cell_type": "code",
   "execution_count": 8,
   "id": "d0504763",
   "metadata": {},
   "outputs": [],
   "source": [
    "# %25 test %75 train\n",
    "# from sklearn.model_selection import train_test_split\n",
    "# x_train, x_test, y_train, y_test = train_test_split(x, y, test_size=0.25, random_state=37, stratify=y)\n"
   ]
  },
  {
   "cell_type": "markdown",
   "id": "207c712d",
   "metadata": {},
   "source": [
    "# Preprocessing \n",
    "Convert a collection of raw documents to a matrix of TF-IDF features.\n",
    "\n",
    "Equivalent to CountVectorizer followed by TfidfTransformer which we used on classification on same data set."
   ]
  },
  {
   "cell_type": "code",
   "execution_count": 9,
   "id": "5d124aeb",
   "metadata": {},
   "outputs": [],
   "source": [
    "from sklearn.feature_extraction.text import TfidfVectorizer\n",
    "vectorizer = TfidfVectorizer()\n",
    "vec = vectorizer.fit(x)   # train vec using x_train\n",
    "vectorized = vec.transform(x)   # transform x_train using vec"
   ]
  },
  {
   "cell_type": "markdown",
   "id": "348b3b16",
   "metadata": {},
   "source": [
    "vectorized variable is measured number of how frequently a term 't' occurs in a document 'd', giving a highers weight to more frequent terms."
   ]
  },
  {
   "cell_type": "markdown",
   "id": "5ea4fefc",
   "metadata": {},
   "source": [
    "# Clustering with KMeans\n"
   ]
  },
  {
   "cell_type": "code",
   "execution_count": 10,
   "id": "cc88ab64",
   "metadata": {},
   "outputs": [
    {
     "data": {
      "text/plain": [
       "KMeans(max_iter=50, n_clusters=7)"
      ]
     },
     "execution_count": 10,
     "metadata": {},
     "output_type": "execute_result"
    }
   ],
   "source": [
    "true_k = np.unique(y).shape[0]\n",
    "true_k\n",
    "from sklearn.cluster import KMeans\n",
    "km = KMeans(\n",
    "    n_clusters=true_k,\n",
    "    init=\"k-means++\", #  ‘k-means++’ : selects initial cluster centers for k-mean clustering in a smart way to speed up convergence.\n",
    "    max_iter=50\n",
    ")\n",
    "km.fit(vectorized)"
   ]
  },
  {
   "cell_type": "markdown",
   "id": "a76ae893",
   "metadata": {},
   "source": [
    "# Evaluation of the performance on the train set"
   ]
  },
  {
   "cell_type": "code",
   "execution_count": 11,
   "id": "e8b5d3a6",
   "metadata": {
    "scrolled": true
   },
   "outputs": [
    {
     "name": "stdout",
     "output_type": "stream",
     "text": [
      "Homogeneity: 0.274\n",
      "Completeness: 0.373\n",
      "V-measure: 0.316\n",
      "Adjusted Rand-Index: 0.104\n",
      "Silhouette Coefficient: 0.005\n"
     ]
    }
   ],
   "source": [
    "from sklearn import metrics\n",
    "print(\"Homogeneity: %0.3f\" % metrics.homogeneity_score(y, km.labels_))\n",
    "print(\"Completeness: %0.3f\" % metrics.completeness_score(y, km.labels_))\n",
    "print(\"V-measure: %0.3f\" % metrics.v_measure_score(y, km.labels_))\n",
    "print(\"Adjusted Rand-Index: %.3f\" % metrics.adjusted_rand_score(y, km.labels_))\n",
    "print(\n",
    "    \"Silhouette Coefficient: %0.3f\"\n",
    "    % metrics.silhouette_score(vectorized, km.labels_, sample_size=1000)\n",
    ")"
   ]
  },
  {
   "cell_type": "code",
   "execution_count": 12,
   "id": "ddb4f1af",
   "metadata": {},
   "outputs": [
    {
     "data": {
      "text/plain": [
       "array([600, 600, 600, 600, 600, 600, 600], dtype=int64)"
      ]
     },
     "execution_count": 12,
     "metadata": {},
     "output_type": "execute_result"
    }
   ],
   "source": [
    "count_y= np.bincount(y)\n",
    "c_kmlabels_ = np.bincount( km.labels_)\n",
    "count_y"
   ]
  },
  {
   "cell_type": "code",
   "execution_count": 13,
   "id": "b630a338",
   "metadata": {},
   "outputs": [
    {
     "data": {
      "image/png": "[encoded data removed]",
      "text/plain": [
       "<Figure size 576x576 with 1 Axes>"
      ]
     },
     "metadata": {
      "needs_background": "light"
     },
     "output_type": "display_data"
    }
   ],
   "source": [
    "import matplotlib.pyplot as plt\n",
    "from matplotlib.pyplot import figure\n",
    "\n",
    "figure(figsize = (8, 8))\n",
    "x = np.array(range(7))\n",
    "y = np.array([\n",
    "    count_y,\n",
    "    c_kmlabels_\n",
    "\n",
    "])\n",
    "plt.title(\"Prediction plot\")\n",
    "plt.xlabel(\"Headlines\")\n",
    "plt.ylabel(\"Occurances\")\n",
    "\n",
    "for i, array in enumerate(y):\n",
    "    plt.plot(x, array, color = 'g' if i==0 else 'b', marker = \"o\", label = \"true values\" if i==0 else \"prediction values\")\n",
    "    \n",
    "plt.legend(loc = \"center left\", bbox_to_anchor=(1, 0.5))\n",
    "plt.show()"
   ]
  }
 ],
 "metadata": {
  "kernelspec": {
   "display_name": "Python 3 (ipykernel)",
   "language": "python",
   "name": "python3"
  },
  "language_info": {
   "codemirror_mode": {
    "name": "ipython",
    "version": 3
   },
   "file_extension": ".py",
   "mimetype": "text/x-python",
   "name": "python",
   "nbconvert_exporter": "python",
   "pygments_lexer": "ipython3",
   "version": "3.8.1"
  }
 },
 "nbformat": 4,
 "nbformat_minor": 5
}
