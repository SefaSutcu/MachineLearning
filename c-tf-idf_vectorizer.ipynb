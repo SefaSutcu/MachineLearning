{
 "cells": [
  {
   "cell_type": "markdown",
   "id": "bfb42626",
   "metadata": {},
   "source": [
    "# Creating CTFIDFVectorizer class"
   ]
  },
  {
   "cell_type": "code",
   "execution_count": 1,
   "id": "e1239c16",
   "metadata": {},
   "outputs": [],
   "source": [
    "import numpy as np\n",
    "import pandas as pd\n",
    "import scipy.sparse as sp\n",
    "\n",
    "from sklearn.preprocessing import normalize\n",
    "from sklearn.feature_extraction.text import TfidfTransformer, CountVectorizer\n",
    "\n",
    "\n",
    "class CTFIDFVectorizer(TfidfTransformer):\n",
    "    def __init__(self, *args, **kwargs):\n",
    "        super(CTFIDFVectorizer, self).__init__(*args, **kwargs)\n",
    "\n",
    "    def fit(self, X: sp.csr_matrix, n_samples: int):\n",
    "        \"\"\"Learn the idf vector (global term weights) \"\"\"\n",
    "        _, n_features = X.shape\n",
    "        df = np.squeeze(np.asarray(X.sum(axis=0)))\n",
    "        idf = np.log(n_samples / df)\n",
    "        self._idf_diag = sp.diags(idf, offsets=0,\n",
    "                                  shape=(n_features, n_features),\n",
    "                                  format='csr',\n",
    "                                  dtype=np.float64)\n",
    "        return self\n",
    "\n",
    "    def transform(self, X: sp.csr_matrix) -> sp.csr_matrix:\n",
    "        \"\"\"Transform a count-based matrix to c-TF-IDF \"\"\"\n",
    "        X = X * self._idf_diag\n",
    "        X = normalize(X, axis=1, norm='l1', copy=False)\n",
    "        return X"
   ]
  },
  {
   "cell_type": "markdown",
   "id": "2b8856f3",
   "metadata": {},
   "source": [
    "# Getting data"
   ]
  },
  {
   "cell_type": "code",
   "execution_count": 2,
   "id": "30f73ea3",
   "metadata": {},
   "outputs": [],
   "source": [
    "\n",
    "with open(\"./train.dat\", \"r\") as f:\n",
    "    lines = f.readlines()\n",
    "labels = []\n",
    "texts = []\n",
    "for i in range(len(lines)):\n",
    "    splitline = lines[i].split('\\t')\n",
    "    labels.append(int(splitline[0])-1)\n",
    "    texts.append(splitline[1])"
   ]
  },
  {
   "cell_type": "markdown",
   "id": "e632fe31",
   "metadata": {},
   "source": [
    "# Splitting Data"
   ]
  },
  {
   "cell_type": "code",
   "execution_count": 3,
   "id": "7986006f",
   "metadata": {},
   "outputs": [],
   "source": [
    "from sklearn.model_selection import train_test_split\n",
    "\n",
    "X_train, X_test, y_train, y_test = train_test_split(texts, labels, test_size=0.25, random_state=42)\n",
    "\n",
    "\n",
    "docs = pd.DataFrame({'Document': X_train, 'Class': y_train})\n",
    "docs_per_class = docs.groupby(['Class'], as_index=True).agg({'Document': ' '.join})"
   ]
  },
  {
   "cell_type": "code",
   "execution_count": 4,
   "id": "0ecb1e3e",
   "metadata": {},
   "outputs": [
    {
     "data": {
      "text/html": [
       "<div>\n",
       "<style scoped>\n",
       "    .dataframe tbody tr th:only-of-type {\n",
       "        vertical-align: middle;\n",
       "    }\n",
       "\n",
       "    .dataframe tbody tr th {\n",
       "        vertical-align: top;\n",
       "    }\n",
       "\n",
       "    .dataframe thead th {\n",
       "        text-align: right;\n",
       "    }\n",
       "</style>\n",
       "<table border=\"1\" class=\"dataframe\">\n",
       "  <thead>\n",
       "    <tr style=\"text-align: right;\">\n",
       "      <th></th>\n",
       "      <th>Document</th>\n",
       "    </tr>\n",
       "    <tr>\n",
       "      <th>Class</th>\n",
       "      <th></th>\n",
       "    </tr>\n",
       "  </thead>\n",
       "  <tbody>\n",
       "    <tr>\n",
       "      <th>0</th>\n",
       "      <td>Endothelin-like immunoreactivity in human brea...</td>\n",
       "    </tr>\n",
       "    <tr>\n",
       "      <th>1</th>\n",
       "      <td>Prevention of a false diagnosis of sexually ac...</td>\n",
       "    </tr>\n",
       "    <tr>\n",
       "      <th>2</th>\n",
       "      <td>Glucocorticoid-induced muscle atrophy preventi...</td>\n",
       "    </tr>\n",
       "    <tr>\n",
       "      <th>3</th>\n",
       "      <td>Threat of unemployment and cardiovascular risk...</td>\n",
       "    </tr>\n",
       "    <tr>\n",
       "      <th>4</th>\n",
       "      <td>Standards for analysis of ventricular late pot...</td>\n",
       "    </tr>\n",
       "  </tbody>\n",
       "</table>\n",
       "</div>"
      ],
      "text/plain": [
       "                                                Document\n",
       "Class                                                   \n",
       "0      Endothelin-like immunoreactivity in human brea...\n",
       "1      Prevention of a false diagnosis of sexually ac...\n",
       "2      Glucocorticoid-induced muscle atrophy preventi...\n",
       "3      Threat of unemployment and cardiovascular risk...\n",
       "4      Standards for analysis of ventricular late pot..."
      ]
     },
     "execution_count": 4,
     "metadata": {},
     "output_type": "execute_result"
    }
   ],
   "source": [
    "docs_per_class"
   ]
  },
  {
   "cell_type": "markdown",
   "id": "a3892ac7",
   "metadata": {},
   "source": [
    "# Transforming data"
   ]
  },
  {
   "cell_type": "code",
   "execution_count": 5,
   "id": "a3cb66d1",
   "metadata": {},
   "outputs": [],
   "source": [
    "count_vectorizer = CountVectorizer().fit(docs_per_class.Document)\n",
    "count = count_vectorizer.transform(docs_per_class.Document)\n",
    "ctfidf_vectorizer = CTFIDFVectorizer().fit(count, n_samples=len(docs))\n",
    "ctfidf = ctfidf_vectorizer.transform(count)"
   ]
  },
  {
   "cell_type": "markdown",
   "id": "a1f610a8",
   "metadata": {},
   "source": [
    "# testing model"
   ]
  },
  {
   "cell_type": "code",
   "execution_count": 6,
   "id": "f599098e",
   "metadata": {},
   "outputs": [
    {
     "name": "stdout",
     "output_type": "stream",
     "text": [
      "              precision    recall  f1-score   support\n",
      "\n",
      "           0       0.66      0.67      0.67       805\n",
      "           1       0.43      0.53      0.48       381\n",
      "           2       0.40      0.61      0.48       459\n",
      "           3       0.62      0.63      0.62       774\n",
      "           4       0.49      0.35      0.41      1191\n",
      "\n",
      "    accuracy                           0.53      3610\n",
      "   macro avg       0.52      0.56      0.53      3610\n",
      "weighted avg       0.54      0.53      0.53      3610\n",
      "\n"
     ]
    }
   ],
   "source": [
    "from sklearn import metrics\n",
    "from sklearn.metrics.pairwise import cosine_similarity\n",
    "\n",
    "count_test = count_vectorizer.transform(X_test)\n",
    "vector = ctfidf_vectorizer.transform(count_test)\n",
    "distances = cosine_similarity(vector, ctfidf)\n",
    "\n",
    "# distances\n",
    "prediction = np.argmax(distances, 1)\n",
    "# prediction\n",
    "print(metrics.classification_report(y_test, prediction))"
   ]
  },
  {
   "cell_type": "markdown",
   "id": "5ba51b00",
   "metadata": {},
   "source": [
    "# Labeling unlabeled data"
   ]
  },
  {
   "cell_type": "code",
   "execution_count": 7,
   "id": "0d92dd3f",
   "metadata": {},
   "outputs": [],
   "source": [
    "with open(\"./test.dat\", \"r\") as f:\n",
    "    txt_test = f.readlines()"
   ]
  },
  {
   "cell_type": "code",
   "execution_count": 8,
   "id": "d1aa2228",
   "metadata": {},
   "outputs": [],
   "source": [
    "count_test = count_vectorizer.transform(txt_test)\n",
    "vector = ctfidf_vectorizer.transform(count_test)\n",
    "distances = cosine_similarity(vector, ctfidf)\n",
    "prediction = np.argmax(distances, 1)"
   ]
  },
  {
   "cell_type": "code",
   "execution_count": 9,
   "id": "571f0898",
   "metadata": {},
   "outputs": [
    {
     "data": {
      "text/plain": [
       "14442"
      ]
     },
     "execution_count": 9,
     "metadata": {},
     "output_type": "execute_result"
    }
   ],
   "source": [
    "len(prediction)"
   ]
  },
  {
   "cell_type": "code",
   "execution_count": 10,
   "id": "7e56f7ef",
   "metadata": {},
   "outputs": [],
   "source": [
    "from sklearn.neighbors import KNeighborsClassifier\n",
    "clf_knn = KNeighborsClassifier(n_neighbors=37)"
   ]
  },
  {
   "cell_type": "code",
   "execution_count": 11,
   "id": "ab26dbc6",
   "metadata": {},
   "outputs": [
    {
     "data": {
      "text/plain": [
       "KNeighborsClassifier(n_neighbors=37)"
      ]
     },
     "execution_count": 11,
     "metadata": {},
     "output_type": "execute_result"
    }
   ],
   "source": [
    "from sklearn.feature_extraction.text import TfidfVectorizer\n",
    "\n",
    "train_text_count_model = CountVectorizer().fit(texts)\n",
    "train_text_count = train_text_count_model.transform(texts)\n",
    "train_text_tfidf_model = TfidfTransformer().fit(train_text_count)\n",
    "train_text_tfidf =train_text_tfidf_model.transform(train_text_count)\n",
    "clf_knn.fit(train_text_tfidf, labels)"
   ]
  },
  {
   "cell_type": "code",
   "execution_count": 12,
   "id": "b830580a",
   "metadata": {},
   "outputs": [],
   "source": [
    "test_text_count = train_text_count_model.transform(txt_test)\n",
    "test_text_tfidf = train_text_tfidf_model.transform(test_text_count)\n",
    "learningmodel_p = clf_knn.predict(test_text_tfidf)"
   ]
  },
  {
   "attachments": {},
   "cell_type": "markdown",
   "id": "3d2f3eb4",
   "metadata": {},
   "source": [
    "# Comparing Learning model and c-Tf-Idf"
   ]
  },
  {
   "cell_type": "code",
   "execution_count": 13,
   "id": "1f793fe2",
   "metadata": {},
   "outputs": [
    {
     "name": "stdout",
     "output_type": "stream",
     "text": [
      "              precision    recall  f1-score   support\n",
      "\n",
      "           0       0.82      0.68      0.75      3833\n",
      "           1       0.54      0.80      0.65      1371\n",
      "           2       0.39      0.84      0.53      1343\n",
      "           3       0.84      0.65      0.73      4031\n",
      "           4       0.53      0.43      0.48      3864\n",
      "\n",
      "    accuracy                           0.63     14442\n",
      "   macro avg       0.62      0.68      0.63     14442\n",
      "weighted avg       0.68      0.63      0.64     14442\n",
      "\n"
     ]
    }
   ],
   "source": [
    "print(metrics.classification_report(learningmodel_p, prediction))"
   ]
  }
 ],
 "metadata": {
  "kernelspec": {
   "display_name": "Python 3",
   "language": "python",
   "name": "python3"
  },
  "language_info": {
   "codemirror_mode": {
    "name": "ipython",
    "version": 3
   },
   "file_extension": ".py",
   "mimetype": "text/x-python",
   "name": "python",
   "nbconvert_exporter": "python",
   "pygments_lexer": "ipython3",
   "version": "3.10.9 (tags/v3.10.9:1dd9be6, Dec  6 2022, 20:01:21) [MSC v.1934 64 bit (AMD64)]"
  },
  "vscode": {
   "interpreter": {
    "hash": "7533e5f8da60d154f49392ab5f280c8b47c59770fb5772e3adc07c5881da94f9"
   }
  }
 },
 "nbformat": 4,
 "nbformat_minor": 5
}
